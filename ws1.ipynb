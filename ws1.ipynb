{
  "nbformat": 4,
  "nbformat_minor": 0,
  "metadata": {
    "colab": {
      "provenance": [],
      "collapsed_sections": [],
      "authorship_tag": "ABX9TyPxmM9FKiPu+nMIONGI0HL7",
      "include_colab_link": true
    },
    "kernelspec": {
      "name": "python3",
      "display_name": "Python 3"
    },
    "language_info": {
      "name": "python"
    },
    "accelerator": "GPU",
    "gpuClass": "standard"
  },
  "cells": [
    {
      "cell_type": "markdown",
      "metadata": {
        "id": "view-in-github",
        "colab_type": "text"
      },
      "source": [
        "<a href=\"https://colab.research.google.com/github/gc625/DLCV/blob/main/ws1.ipynb\" target=\"_parent\"><img src=\"https://colab.research.google.com/assets/colab-badge.svg\" alt=\"Open In Colab\"/></a>"
      ]
    },
    {
      "cell_type": "code",
      "execution_count": null,
      "metadata": {
        "id": "emiPGaqNPaYp"
      },
      "outputs": [],
      "source": [
        "from torchvision import transforms\n",
        "from PIL import Image\n",
        "import PIL"
      ]
    },
    {
      "cell_type": "markdown",
      "source": [
        "# Helper Function\n",
        "Some helper functions convenience:\n",
        "\n",
        "`show_image(sample_from_dataset)`: displays an image from the dataset given index `idx`\n",
        "\n",
        "`image_to_tensor`: converts PIL image into tensor of shape `(1,28,28)`\n",
        "\n",
        "`plot_metric(metric,metric_str)`: plot a graph of training metric\n",
        "\n",
        "`test_one_image(model,sample_from_datset)`: pass one image through model, display prediction and label\n",
        "\n",
        "`train_val_test_split(dataset,ratio=[0.6,0.2,0.2]):` splits the dataset into a training, validation, and testing dataset based on the ratio"
      ],
      "metadata": {
        "id": "98WDF2hJYpf2"
      }
    },
    {
      "cell_type": "code",
      "source": [
        "def show_image(sample_from_dataset):\n",
        "    # helper function to convert from tensor to img\n",
        "    tensor2img = transforms.ToPILImage()\n",
        "\n",
        "    # get image and resize for display\n",
        "    # image_tensor,label = dataset[idx]\n",
        "    image,label = sample_from_dataset\n",
        "    image = image.repeat(3,1,1)\n",
        "    image = tensor2img(image)\n",
        "    img = image.resize((256,256),resample=Image.NEAREST)\n",
        "    \n",
        "    print(f'Image label: {label}')\n",
        "    display(img)\n",
        "\n",
        "\n",
        "# \n",
        "image_to_tensor=transforms.Compose([transforms.ToTensor()])\n",
        "\n",
        "\n",
        "def plot_metric(metric,metric_str):\n",
        "    import matplotlib.pyplot as plt    \n",
        "    x = list(range(len(metric)))\n",
        "    plt.plot(x,metric)\n",
        "    plt.title(metric_str)\n",
        "    plt.show()    \n",
        "\n",
        "\n",
        "def test_one_image(model,sample_from_dataset):\n",
        "    image,label = sample_from_dataset\n",
        "    show_image(sample_from_dataset)\n",
        "    image = image.unsqueeze(0).to('cuda')\n",
        "    pred = model(image).argmax().item()\n",
        "    print(f'Model predicted {pred}')\n",
        "\n",
        "\n",
        "def train_val_test_split(dataset,ratios):\n",
        "    from torch.utils.data import random_split\n",
        "    import torch\n",
        "    torch.manual_seed(0)\n",
        "    num = len(dataset)\n",
        "    train_len = int(ratios[0]*num)\n",
        "    val_len = int(ratios[1]*num)\n",
        "    test_len = num - train_len - val_len\n",
        "\n",
        "\n",
        "    train_dataset,val_test_dataset = random_split(dataset,[train_len,val_len+test_len])\n",
        "    val_dataset,test_dataset = random_split(val_test_dataset,[val_len,test_len])\n",
        "\n",
        "    return train_dataset,val_dataset,test_dataset"
      ],
      "metadata": {
        "id": "SB3rNeguVJU8"
      },
      "execution_count": null,
      "outputs": []
    },
    {
      "cell_type": "markdown",
      "source": [
        "# Dataset\n",
        "\n",
        "We will be using MNIST, a dataset with 70,000 greyscale images of handwritten numbers from 0 to 9. Each image has a resolution of $28\\times 28$."
      ],
      "metadata": {
        "id": "Xd7Kau_faHGw"
      }
    },
    {
      "cell_type": "markdown",
      "source": [
        "## Downloading the trainval and test dataset\n"
      ],
      "metadata": {
        "id": "_-Vn60y2chqb"
      }
    },
    {
      "cell_type": "code",
      "source": [
        "from torchvision.datasets import MNIST\n",
        "\n",
        "entire_dataset = MNIST('../data', train=True, download=True,transform=image_to_tensor)\\\n",
        "               + MNIST('../data', train=False, download=True,transform=image_to_tensor)"
      ],
      "metadata": {
        "id": "WO6hyCbRPsgY"
      },
      "execution_count": null,
      "outputs": []
    },
    {
      "cell_type": "markdown",
      "source": [
        "## Splitting trainval into seperate datasets"
      ],
      "metadata": {
        "id": "xXjIRcDKcn0e"
      }
    },
    {
      "cell_type": "code",
      "source": [
        "## TODO: \n",
        "train_dataset,val_dataset,test_dataset = "
      ],
      "metadata": {
        "id": "KwD6fx4RQly5"
      },
      "execution_count": null,
      "outputs": []
    },
    {
      "cell_type": "markdown",
      "source": [
        "## Creating Dataloaders for each dataset"
      ],
      "metadata": {
        "id": "0qSdLPoactm0"
      }
    },
    {
      "cell_type": "code",
      "source": [
        "from torch.utils.data import DataLoader\n",
        "## TODO:\n"
      ],
      "metadata": {
        "id": "YJi18XdKc7ft"
      },
      "execution_count": null,
      "outputs": []
    },
    {
      "cell_type": "markdown",
      "source": [
        "#Creaing our Model\n",
        "\n",
        "We'll be using logistic regression, in the following block, we create our model to be used for training"
      ],
      "metadata": {
        "id": "oUjEjCBywefR"
      }
    },
    {
      "cell_type": "code",
      "source": [
        "import torch\n",
        "import torch.nn as nn\n",
        "import torch.nn.functional as F\n",
        "\n",
        "\n",
        "class LogisticRegression(nn.Module):\n",
        "    def __init__(self):\n",
        "        super(LogisticRegression, self).__init__()                \n",
        "        \n",
        "\n",
        "        pass\n",
        "    def forward(self,images):\n",
        "        pass\n",
        "\n"
      ],
      "metadata": {
        "id": "HSO542wuVsRT"
      },
      "execution_count": null,
      "outputs": []
    },
    {
      "cell_type": "code",
      "source": [
        "import torch.optim as optim\n",
        "\n",
        "\n",
        "## TODO:\n",
        "model \n",
        "loss_function\n",
        "learning_rate\n",
        "optimizer\n",
        "\n",
        "# Training settings\n",
        "num_epochs "
      ],
      "metadata": {
        "id": "CoJPcRbEhOO8"
      },
      "execution_count": null,
      "outputs": []
    },
    {
      "cell_type": "code",
      "source": [
        "from tqdm import tqdm\n",
        "\n",
        "loss_epochs = []\n",
        "val_epochs = []\n",
        "for epoch in range(num_epochs):\n",
        "    train_bar = tqdm(train_loader)\n",
        "    total_loss = 0\n",
        "\n",
        "    ## TRAINING ## \n",
        "    for batch_images,batch_labels in train_bar:\n",
        "        optimizer.zero_grad()\n",
        "\n",
        "        # send images,labels to GPU \n",
        "        \n",
        "        \n",
        "        # pass images through model\n",
        "        \n",
        "\n",
        "        # calc loss\n",
        "\n",
        "\n",
        "        # propagate loss\n",
        "\n",
        "\n",
        "        # update the parameters\n",
        "\n",
        "\n",
        "        total_loss+= loss.item()\n",
        "        train_bar.set_postfix({'loss':f'{loss.item():.2f}','epoch':epoch})\n",
        "    \n",
        "\n",
        "    ## logging training statistics\n",
        "    average_loss = total_loss/len(train_loader)\n",
        "    loss_epochs += [average_loss]\n",
        "    print(f'Epoch {epoch} average loss: {average_loss:.2f}')\n",
        "    \n",
        "    ## VALIDATION ##\n",
        "    with torch.no_grad():\n",
        "        correct = 0\n",
        "        for batch_images,batch_labels in tqdm(val_loader):\n",
        "            ## TODO: \n",
        "\n",
        "            # send images,labels to GPU \n",
        "            \n",
        "\n",
        "            # pass images through model\n",
        "            \n",
        "\n",
        "            # get predictions\n",
        "            \n",
        "\n",
        "            # get # of correct predictions\n",
        "            \n",
        "\n",
        "\n",
        "\n",
        "\n",
        "        ## logging validation statistics\n",
        "        val_accuracy = correct/len(val_loader.dataset)\n",
        "        val_epochs += [val_accuracy]\n",
        "        print(f'Epoch {epoch}, val acc; {val_accuracy:2f}')\n"
      ],
      "metadata": {
        "id": "-cvhfGfWRJCu"
      },
      "execution_count": null,
      "outputs": []
    },
    {
      "cell_type": "code",
      "source": [
        "## Visualizing training\n",
        "\n",
        "# plot_metric(loss_epochs,\"average losses\")\n",
        "# plot_metric(val_epochs,\"validation accuracy\")"
      ],
      "metadata": {
        "id": "bdbq4B8os50f"
      },
      "execution_count": null,
      "outputs": []
    },
    {
      "cell_type": "code",
      "source": [
        "with torch.no_grad():\n",
        "    correct = 0\n",
        "    ## TEST ## \n",
        "    for batch_images,batch_labels in tqdm(test_loader):\n",
        "        batch_images,batch_labels = batch_images.to('cuda'),batch_labels.to('cuda')\n",
        "        output = model(batch_images)\n",
        "        predictions = output.argmax(dim=1)\n",
        "        correct += predictions.eq(batch_labels).sum().item()\n",
        "        \n",
        "    print(f'epoch {epoch}, test acc; {correct/len(test_loader.dataset):.2f}')\n"
      ],
      "metadata": {
        "id": "tttU27zFg17T"
      },
      "execution_count": null,
      "outputs": []
    },
    {
      "cell_type": "code",
      "source": [
        "## VISUALIZE TEST SET RESULTS\n"
      ],
      "metadata": {
        "id": "9i9mC_9Pr6Al"
      },
      "execution_count": null,
      "outputs": []
    }
  ]
}