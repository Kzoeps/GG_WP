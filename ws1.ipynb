{
  "nbformat": 4,
  "nbformat_minor": 0,
  "metadata": {
    "colab": {
      "provenance": [],
      "collapsed_sections": [],
      "authorship_tag": "ABX9TyMGZx2vOE7wDyvNjuDFEuwA",
      "include_colab_link": true
    },
    "kernelspec": {
      "name": "python3",
      "display_name": "Python 3"
    },
    "language_info": {
      "name": "python"
    },
    "accelerator": "GPU",
    "gpuClass": "standard"
  },
  "cells": [
    {
      "cell_type": "markdown",
      "metadata": {
        "id": "view-in-github",
        "colab_type": "text"
      },
      "source": [
        "<a href=\"https://colab.research.google.com/github/gc625/DLCV/blob/main/ws1.ipynb\" target=\"_parent\"><img src=\"https://colab.research.google.com/assets/colab-badge.svg\" alt=\"Open In Colab\"/></a>"
      ]
    },
    {
      "cell_type": "code",
      "execution_count": null,
      "metadata": {
        "id": "emiPGaqNPaYp"
      },
      "outputs": [],
      "source": [
        "import torch\n",
        "import torch.nn as nn\n",
        "import torch.nn.functional as F\n",
        "from torch.utils.data import DataLoader,random_split\n",
        "from torchvision.datasets import MNIST\n",
        "import torch.optim as optim\n",
        "from torchvision import transforms\n",
        "from PIL import Image\n",
        "import PIL\n",
        "from tqdm import tqdm"
      ]
    },
    {
      "cell_type": "markdown",
      "source": [
        "# Helper Function\n",
        "Some helper functions convenience:\n",
        "\n",
        "`show_image`: displays an image from the dataset given index `idx`\n",
        "\n",
        "`image_to_tensor`: converts PIL image into tensor of shape `(1,28,28)`"
      ],
      "metadata": {
        "id": "98WDF2hJYpf2"
      }
    },
    {
      "cell_type": "code",
      "source": [
        "def show_image(dataset,idx):\n",
        "    # helper function to convert from tensor to img\n",
        "    tensor2img = transforms.ToPILImage()\n",
        "\n",
        "    # get image and resize for display\n",
        "    image_tensor,label = dataset[idx]\n",
        "    image = image_tensor.repeat(3,1,1)\n",
        "    image = tensor2img(image)\n",
        "    img = image.resize((256,256),resample=Image.NEAREST)\n",
        "    \n",
        "    print(f'idx: {idx}, Image label: {label}')\n",
        "    display(img)\n",
        "\n",
        "\n",
        "# \n",
        "image_to_tensor=transforms.Compose([transforms.ToTensor()])\n"
      ],
      "metadata": {
        "id": "SB3rNeguVJU8"
      },
      "execution_count": null,
      "outputs": []
    },
    {
      "cell_type": "markdown",
      "source": [
        "# Dataset\n",
        "\n",
        "We will be using MNIST, a dataset with 70,000 greyscale images of handwritten numbers from 0 to 9. Each image has a resolution of $28\\times 28$."
      ],
      "metadata": {
        "id": "Xd7Kau_faHGw"
      }
    },
    {
      "cell_type": "markdown",
      "source": [
        "## Downloading the trainval and test dataset\n"
      ],
      "metadata": {
        "id": "_-Vn60y2chqb"
      }
    },
    {
      "cell_type": "code",
      "source": [
        "trainval_dataset = MNIST('../data', train=True, download=True,transform=image_to_tensor)\n",
        "test_dataset = MNIST('../data', train=False, download=True,transform=image_to_tensor)"
      ],
      "metadata": {
        "id": "WO6hyCbRPsgY"
      },
      "execution_count": null,
      "outputs": []
    },
    {
      "cell_type": "markdown",
      "source": [
        "## Splitting trainval into seperate datasets"
      ],
      "metadata": {
        "id": "xXjIRcDKcn0e"
      }
    },
    {
      "cell_type": "code",
      "source": [
        "## TODO: \n",
        "\n"
      ],
      "metadata": {
        "id": "KwD6fx4RQly5"
      },
      "execution_count": null,
      "outputs": []
    },
    {
      "cell_type": "markdown",
      "source": [
        "## Creating Dataloaders for each dataset"
      ],
      "metadata": {
        "id": "0qSdLPoactm0"
      }
    },
    {
      "cell_type": "code",
      "source": [
        "## TODO:\n"
      ],
      "metadata": {
        "id": "YJi18XdKc7ft"
      },
      "execution_count": null,
      "outputs": []
    },
    {
      "cell_type": "markdown",
      "source": [
        "Creaing our Model\n",
        "\n",
        "We'll be using logistic regression, in the following block, we create our model to be used for training"
      ],
      "metadata": {
        "id": "oUjEjCBywefR"
      }
    },
    {
      "cell_type": "code",
      "source": [
        "class LogisticRegression(nn.Module):\n",
        "    def __init__(self):\n",
        "        super(LogisticRegression, self).__init__()        \n",
        "        \n",
        "    def forward(self):"
      ],
      "metadata": {
        "id": "HSO542wuVsRT"
      },
      "execution_count": null,
      "outputs": []
    },
    {
      "cell_type": "code",
      "source": [
        "## TODO:\n",
        "model = #\n",
        "loss_function = # \n",
        "optimizer = #\n",
        "\n",
        "# Training settings\n",
        "num_epochs = #"
      ],
      "metadata": {
        "id": "CoJPcRbEhOO8"
      },
      "execution_count": null,
      "outputs": []
    },
    {
      "cell_type": "code",
      "source": [
        "for epoch in range(num_epochs):\n",
        "    train_bar = tqdm(train_loader)\n",
        "    \n",
        "    ## TRAINING ## \n",
        "    for image,label in train_bar:\n",
        "        \n",
        "        ## TODO \n",
        "        pass\n",
        "        \n",
        "    \n",
        "\n",
        "    ## VALIDATION ##\n",
        "    with torch.no_grad():\n",
        "        correct = 0\n",
        "        for image,label in tqdm(val_loader):\n",
        "            ## TODO: "
      ],
      "metadata": {
        "id": "-cvhfGfWRJCu"
      },
      "execution_count": null,
      "outputs": []
    },
    {
      "cell_type": "code",
      "source": [
        "with torch.no_grad():\n",
        "    correct = 0\n",
        "\n",
        "    ## TEST ## \n",
        "    for image,label in tqdm(test_loader):\n",
        "        ## TODO:"
      ],
      "metadata": {
        "id": "tttU27zFg17T"
      },
      "execution_count": null,
      "outputs": []
    },
    {
      "cell_type": "code",
      "source": [],
      "metadata": {
        "id": "9i9mC_9Pr6Al"
      },
      "execution_count": null,
      "outputs": []
    }
  ]
}