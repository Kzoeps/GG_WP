{
  "nbformat": 4,
  "nbformat_minor": 0,
  "metadata": {
    "colab": {
      "provenance": [],
      "collapsed_sections": [],
      "authorship_tag": "ABX9TyO+btMDEWDnm0dQT/38nHaj",
      "include_colab_link": true
    },
    "kernelspec": {
      "name": "python3",
      "display_name": "Python 3"
    },
    "language_info": {
      "name": "python"
    },
    "accelerator": "GPU",
    "gpuClass": "standard"
  },
  "cells": [
    {
      "cell_type": "markdown",
      "metadata": {
        "id": "view-in-github",
        "colab_type": "text"
      },
      "source": [
        "<a href=\"https://colab.research.google.com/github/gc625/DLCV/blob/main/ws1.ipynb\" target=\"_parent\"><img src=\"https://colab.research.google.com/assets/colab-badge.svg\" alt=\"Open In Colab\"/></a>"
      ]
    },
    {
      "cell_type": "code",
      "execution_count": 1,
      "metadata": {
        "id": "emiPGaqNPaYp"
      },
      "outputs": [],
      "source": [
        "from torchvision import transforms\n",
        "from PIL import Image\n",
        "import PIL"
      ]
    },
    {
      "cell_type": "markdown",
      "source": [
        "# Helper Function\n",
        "Some helper functions convenience:\n",
        "\n",
        "`show_image`: displays an image from the dataset given index `idx`\n",
        "\n",
        "`image_to_tensor`: converts PIL image into tensor of shape `(1,28,28)`"
      ],
      "metadata": {
        "id": "98WDF2hJYpf2"
      }
    },
    {
      "cell_type": "code",
      "source": [
        "def show_image(sample_from_dataset):\n",
        "    # helper function to convert from tensor to img\n",
        "    tensor2img = transforms.ToPILImage()\n",
        "    # get image and resize for display\n",
        "    # image_tensor,label = dataset[idx]\n",
        "    image,label = sample_from_dataset\n",
        "    image = image.repeat(3,1,1)\n",
        "    image = tensor2img(image)\n",
        "    img = image.resize((256,256),resample=Image.NEAREST)\n",
        "    \n",
        "    print(f'Image label: {label}')\n",
        "    display(img)\n",
        "\n",
        "image_to_tensor=transforms.Compose([transforms.ToTensor()])\n",
        "\n",
        "def plot_metric(metric,metric_str):\n",
        "    import matplotlib.pyplot as plt    \n",
        "    x = list(range(len(metric)))\n",
        "    plt.plot(x,metric)\n",
        "    plt.title(metric_str)\n",
        "    plt.show()    \n",
        "\n",
        "def test_one_image(model,sample_from_dataset):\n",
        "    image,label = sample_from_dataset\n",
        "    show_image(sample_from_dataset)\n",
        "    image = image.unsqueeze(0).to('cuda')\n",
        "    pred = model(image).argmax().item()\n",
        "    print(f'Model predicted {pred}')\n"
      ],
      "metadata": {
        "id": "SB3rNeguVJU8"
      },
      "execution_count": 80,
      "outputs": []
    },
    {
      "cell_type": "markdown",
      "source": [
        "# Dataset\n",
        "\n",
        "We will be using MNIST, a dataset with 70,000 greyscale images of handwritten numbers from 0 to 9. Each image has a resolution of $28\\times 28$."
      ],
      "metadata": {
        "id": "Xd7Kau_faHGw"
      }
    },
    {
      "cell_type": "markdown",
      "source": [
        "## Downloading the trainval and test dataset\n"
      ],
      "metadata": {
        "id": "_-Vn60y2chqb"
      }
    },
    {
      "cell_type": "code",
      "source": [
        "from torchvision.datasets import MNIST\n",
        "trainval_dataset = MNIST('../data', train=True, download=True,transform=image_to_tensor)\n",
        "test_dataset = MNIST('../data', train=False, download=True,transform=image_to_tensor)"
      ],
      "metadata": {
        "id": "WO6hyCbRPsgY"
      },
      "execution_count": 4,
      "outputs": []
    },
    {
      "cell_type": "markdown",
      "source": [
        "## Splitting trainval into seperate datasets"
      ],
      "metadata": {
        "id": "xXjIRcDKcn0e"
      }
    },
    {
      "cell_type": "code",
      "source": [
        "from torch.utils.data import random_split\n",
        "## TODO: \n"
      ],
      "metadata": {
        "id": "KwD6fx4RQly5"
      },
      "execution_count": 5,
      "outputs": []
    },
    {
      "cell_type": "markdown",
      "source": [
        "## Creating Dataloaders for each dataset"
      ],
      "metadata": {
        "id": "0qSdLPoactm0"
      }
    },
    {
      "cell_type": "code",
      "source": [
        "from torch.utils.data import DataLoader\n",
        "## TODO:\n"
      ],
      "metadata": {
        "id": "YJi18XdKc7ft"
      },
      "execution_count": 8,
      "outputs": []
    },
    {
      "cell_type": "markdown",
      "source": [
        "#Creaing our Model\n",
        "\n",
        "We'll be using logistic regression, in the following block, we create our model to be used for training"
      ],
      "metadata": {
        "id": "oUjEjCBywefR"
      }
    },
    {
      "cell_type": "code",
      "source": [
        "import torch\n",
        "import torch.nn as nn\n",
        "import torch.nn.functional as F\n",
        "\n",
        "\n",
        "class LogisticRegression(nn.Module):\n",
        "    def __init__(self):\n",
        "        super(LogisticRegression, self).__init__()                \n",
        "        \n",
        "\n",
        "        pass\n",
        "    def forward(self,images):\n",
        "        pass\n",
        "\n"
      ],
      "metadata": {
        "id": "HSO542wuVsRT"
      },
      "execution_count": 25,
      "outputs": []
    },
    {
      "cell_type": "code",
      "source": [
        "import torch.optim as optim\n",
        "\n",
        "\n",
        "## TODO:\n",
        "model \n",
        "learning_rate\n",
        "loss_function\n",
        "optimizer\n",
        "\n",
        "# Training settings\n",
        "num_epochs "
      ],
      "metadata": {
        "id": "CoJPcRbEhOO8"
      },
      "execution_count": 40,
      "outputs": []
    },
    {
      "cell_type": "code",
      "source": [
        "from tqdm import tqdm\n",
        "\n",
        "loss_epochs = []\n",
        "val_epochs = []\n",
        "for epoch in range(num_epochs):\n",
        "    train_bar = tqdm(train_loader)\n",
        "    total_loss = 0\n",
        "\n",
        "    ## TRAINING ## \n",
        "    for batch_images,batch_labels in train_bar:\n",
        "        optimizer.zero_grad()\n",
        "\n",
        "        # send images,labels to GPU \n",
        "        \n",
        "        \n",
        "        # pass images through model\n",
        "        \n",
        "\n",
        "        # calc loss\n",
        "\n",
        "\n",
        "        # propagate loss\n",
        "\n",
        "\n",
        "        # update the parameters\n",
        "\n",
        "\n",
        "        total_loss+= loss.item()\n",
        "        train_bar.set_postfix({'loss':f'{loss.item():.2f}','epoch':epoch})\n",
        "    \n",
        "\n",
        "    ## logging training statistics\n",
        "    average_loss = total_loss/len(train_loader)\n",
        "    loss_epochs += [average_loss]\n",
        "    print(f'Epoch {epoch} average loss: {average_loss:.2f}')\n",
        "    \n",
        "    ## VALIDATION ##\n",
        "    with torch.no_grad():\n",
        "        correct = 0\n",
        "        for batch_images,batch_labels in tqdm(val_loader):\n",
        "            ## TODO: \n",
        "\n",
        "            # send images,labels to GPU \n",
        "            \n",
        "\n",
        "            # pass images through model\n",
        "            \n",
        "\n",
        "            # get predictions\n",
        "            \n",
        "\n",
        "            # get # of correct predictions\n",
        "            \n",
        "\n",
        "\n",
        "\n",
        "\n",
        "        ## logging validation statistics\n",
        "        val_accuracy = correct/len(val_loader.dataset)\n",
        "        val_epochs += [val_accuracy]\n",
        "        print(f'Epoch {epoch}, val acc; {val_accuracy:2f}')\n"
      ],
      "metadata": {
        "id": "-cvhfGfWRJCu",
        "colab": {
          "base_uri": "https://localhost:8080/"
        },
        "outputId": "0b2f1b00-1c70-48f6-f45d-22b021744dc9"
      },
      "execution_count": 42,
      "outputs": [
        {
          "output_type": "stream",
          "name": "stderr",
          "text": [
            "100%|██████████| 188/188 [00:04<00:00, 37.72it/s, loss=1.53, epoch=0]\n"
          ]
        },
        {
          "output_type": "stream",
          "name": "stdout",
          "text": [
            "Epoch 0 average loss: 1.91\n"
          ]
        },
        {
          "output_type": "stream",
          "name": "stderr",
          "text": [
            "100%|██████████| 47/47 [00:01<00:00, 39.93it/s]\n"
          ]
        },
        {
          "output_type": "stream",
          "name": "stdout",
          "text": [
            "Epoch 0, val acc; 0.745250\n"
          ]
        },
        {
          "output_type": "stream",
          "name": "stderr",
          "text": [
            "100%|██████████| 188/188 [00:05<00:00, 32.24it/s, loss=1.14, epoch=1]\n"
          ]
        },
        {
          "output_type": "stream",
          "name": "stdout",
          "text": [
            "Epoch 1 average loss: 1.39\n"
          ]
        },
        {
          "output_type": "stream",
          "name": "stderr",
          "text": [
            "100%|██████████| 47/47 [00:01<00:00, 40.29it/s]\n"
          ]
        },
        {
          "output_type": "stream",
          "name": "stdout",
          "text": [
            "Epoch 1, val acc; 0.796000\n"
          ]
        },
        {
          "output_type": "stream",
          "name": "stderr",
          "text": [
            "100%|██████████| 188/188 [00:04<00:00, 37.78it/s, loss=0.93, epoch=2]\n"
          ]
        },
        {
          "output_type": "stream",
          "name": "stdout",
          "text": [
            "Epoch 2 average loss: 1.12\n"
          ]
        },
        {
          "output_type": "stream",
          "name": "stderr",
          "text": [
            "100%|██████████| 47/47 [00:01<00:00, 40.07it/s]\n"
          ]
        },
        {
          "output_type": "stream",
          "name": "stdout",
          "text": [
            "Epoch 2, val acc; 0.817417\n"
          ]
        },
        {
          "output_type": "stream",
          "name": "stderr",
          "text": [
            "100%|██████████| 188/188 [00:05<00:00, 37.43it/s, loss=0.80, epoch=3]\n"
          ]
        },
        {
          "output_type": "stream",
          "name": "stdout",
          "text": [
            "Epoch 3 average loss: 0.97\n"
          ]
        },
        {
          "output_type": "stream",
          "name": "stderr",
          "text": [
            "100%|██████████| 47/47 [00:01<00:00, 39.11it/s]\n"
          ]
        },
        {
          "output_type": "stream",
          "name": "stdout",
          "text": [
            "Epoch 3, val acc; 0.830500\n"
          ]
        },
        {
          "output_type": "stream",
          "name": "stderr",
          "text": [
            "100%|██████████| 188/188 [00:04<00:00, 38.22it/s, loss=0.71, epoch=4]\n"
          ]
        },
        {
          "output_type": "stream",
          "name": "stdout",
          "text": [
            "Epoch 4 average loss: 0.86\n"
          ]
        },
        {
          "output_type": "stream",
          "name": "stderr",
          "text": [
            "100%|██████████| 47/47 [00:01<00:00, 40.72it/s]\n"
          ]
        },
        {
          "output_type": "stream",
          "name": "stdout",
          "text": [
            "Epoch 4, val acc; 0.838833\n"
          ]
        },
        {
          "output_type": "stream",
          "name": "stderr",
          "text": [
            "100%|██████████| 188/188 [00:06<00:00, 30.23it/s, loss=0.65, epoch=5]\n"
          ]
        },
        {
          "output_type": "stream",
          "name": "stdout",
          "text": [
            "Epoch 5 average loss: 0.79\n"
          ]
        },
        {
          "output_type": "stream",
          "name": "stderr",
          "text": [
            "100%|██████████| 47/47 [00:01<00:00, 28.84it/s]\n"
          ]
        },
        {
          "output_type": "stream",
          "name": "stdout",
          "text": [
            "Epoch 5, val acc; 0.844167\n"
          ]
        },
        {
          "output_type": "stream",
          "name": "stderr",
          "text": [
            "100%|██████████| 188/188 [00:04<00:00, 38.10it/s, loss=0.60, epoch=6]\n"
          ]
        },
        {
          "output_type": "stream",
          "name": "stdout",
          "text": [
            "Epoch 6 average loss: 0.74\n"
          ]
        },
        {
          "output_type": "stream",
          "name": "stderr",
          "text": [
            "100%|██████████| 47/47 [00:01<00:00, 40.46it/s]\n"
          ]
        },
        {
          "output_type": "stream",
          "name": "stdout",
          "text": [
            "Epoch 6, val acc; 0.849083\n"
          ]
        },
        {
          "output_type": "stream",
          "name": "stderr",
          "text": [
            "100%|██████████| 188/188 [00:05<00:00, 34.79it/s, loss=0.56, epoch=7]\n"
          ]
        },
        {
          "output_type": "stream",
          "name": "stdout",
          "text": [
            "Epoch 7 average loss: 0.70\n"
          ]
        },
        {
          "output_type": "stream",
          "name": "stderr",
          "text": [
            "100%|██████████| 47/47 [00:01<00:00, 39.08it/s]\n"
          ]
        },
        {
          "output_type": "stream",
          "name": "stdout",
          "text": [
            "Epoch 7, val acc; 0.852083\n"
          ]
        },
        {
          "output_type": "stream",
          "name": "stderr",
          "text": [
            "100%|██████████| 188/188 [00:05<00:00, 32.38it/s, loss=0.53, epoch=8]\n"
          ]
        },
        {
          "output_type": "stream",
          "name": "stdout",
          "text": [
            "Epoch 8 average loss: 0.66\n"
          ]
        },
        {
          "output_type": "stream",
          "name": "stderr",
          "text": [
            "100%|██████████| 47/47 [00:01<00:00, 40.57it/s]\n"
          ]
        },
        {
          "output_type": "stream",
          "name": "stdout",
          "text": [
            "Epoch 8, val acc; 0.856500\n"
          ]
        },
        {
          "output_type": "stream",
          "name": "stderr",
          "text": [
            "100%|██████████| 188/188 [00:04<00:00, 37.90it/s, loss=0.50, epoch=9]\n"
          ]
        },
        {
          "output_type": "stream",
          "name": "stdout",
          "text": [
            "Epoch 9 average loss: 0.64\n"
          ]
        },
        {
          "output_type": "stream",
          "name": "stderr",
          "text": [
            "100%|██████████| 47/47 [00:01<00:00, 41.17it/s]"
          ]
        },
        {
          "output_type": "stream",
          "name": "stdout",
          "text": [
            "Epoch 9, val acc; 0.859250\n"
          ]
        },
        {
          "output_type": "stream",
          "name": "stderr",
          "text": [
            "\n"
          ]
        }
      ]
    },
    {
      "cell_type": "code",
      "source": [
        "## Visualizing training\n",
        "\n",
        "# plot_metric(loss_epochs,\"average losses\")\n",
        "# plot_metric(val_epochs,\"validation accuracy\")"
      ],
      "metadata": {
        "id": "bdbq4B8os50f"
      },
      "execution_count": 1,
      "outputs": []
    },
    {
      "cell_type": "code",
      "source": [
        "with torch.no_grad():\n",
        "    correct = 0\n",
        "    ## TEST ## \n",
        "    for batch_images,batch_labels in tqdm(test_loader):\n",
        "        batch_images,batch_labels = batch_images.to('cuda'),batch_labels.to('cuda')\n",
        "        output = model(batch_images)\n",
        "        predictions = output.argmax(dim=1)\n",
        "        correct += predictions.eq(batch_labels).sum().item()\n",
        "        \n",
        "    print(f'epoch {epoch}, test acc; {correct/len(test_loader.dataset):.2f}')\n"
      ],
      "metadata": {
        "id": "tttU27zFg17T",
        "colab": {
          "base_uri": "https://localhost:8080/"
        },
        "outputId": "43a09454-93c8-4680-c37b-fff550035ba5"
      },
      "execution_count": 87,
      "outputs": [
        {
          "output_type": "stream",
          "name": "stderr",
          "text": [
            "100%|██████████| 40/40 [00:01<00:00, 29.23it/s]"
          ]
        },
        {
          "output_type": "stream",
          "name": "stdout",
          "text": [
            "epoch 9, test acc; 0.87\n"
          ]
        },
        {
          "output_type": "stream",
          "name": "stderr",
          "text": [
            "\n"
          ]
        }
      ]
    },
    {
      "cell_type": "code",
      "source": [
        "## VISUALIZE TEST SET RESULTS\n"
      ],
      "metadata": {
        "id": "9i9mC_9Pr6Al"
      },
      "execution_count": 86,
      "outputs": []
    }
  ]
}